{
 "cells": [
  {
   "cell_type": "code",
   "execution_count": 14,
   "id": "db310e0d-31f3-41b6-a206-e0edc1b86510",
   "metadata": {},
   "outputs": [],
   "source": [
    "from googleapiclient.discovery import build\n",
    "import pandas as pd\n",
    "import seaborn as sns\n",
    "import matplotlib.pyplot as plt\n",
    "import matplotlib.ticker as ticker\n",
    "from IPython.display import JSON"
   ]
  },
  {
   "cell_type": "code",
   "execution_count": 15,
   "id": "25aabe55-2654-4d84-804c-f27753472a6d",
   "metadata": {},
   "outputs": [],
   "source": [
    "api_key = \"REDACTED\""
   ]
  },
  {
   "cell_type": "code",
   "execution_count": 16,
   "id": "48800197-f141-4fb5-ac96-a83e0c7ecf1e",
   "metadata": {},
   "outputs": [],
   "source": [
    "channel_ids = [\"UCU4ZadLwXcQsZhdAMToxH_g\"]"
   ]
  },
  {
   "cell_type": "code",
   "execution_count": 17,
   "id": "2e6d96e2-6703-428d-875f-5c54858c9e92",
   "metadata": {},
   "outputs": [
    {
     "data": {
      "application/json": {
       "etag": "zI0Y7URQggq2-8XbVaqBQJZyDmA",
       "items": [
        {
         "contentDetails": {
          "relatedPlaylists": {
           "likes": "",
           "uploads": "UUVriwe7B3oulIK6FA-amy0g"
          }
         },
         "etag": "dnKfGtJpmrGIrgxkbCGIrxSHJN4",
         "id": "UCVriwe7B3oulIK6FA-amy0g",
         "kind": "youtube#channel",
         "snippet": {
          "country": "FR",
          "customUrl": "@jofremartinguitar",
          "description": "Classical guitar student in Dijon, France.\nAmateur of history research and discovering less known works or composers.\n\nA video every wednesday and saturday !\n \nThank you !\n",
          "localized": {
           "description": "Classical guitar student in Dijon, France.\nAmateur of history research and discovering less known works or composers.\n\nA video every wednesday and saturday !\n \nThank you !\n",
           "title": "Jofré Martin - Classical Guitar"
          },
          "publishedAt": "2015-06-22T08:24:16Z",
          "thumbnails": {
           "default": {
            "height": 88,
            "url": "https://yt3.ggpht.com/ytc/AIdro_kMqSvzMy05S-3Mv9LXE-HSu77mgwnCgSTiuA9B4Yt0fp4=s88-c-k-c0x00ffffff-no-rj",
            "width": 88
           },
           "high": {
            "height": 800,
            "url": "https://yt3.ggpht.com/ytc/AIdro_kMqSvzMy05S-3Mv9LXE-HSu77mgwnCgSTiuA9B4Yt0fp4=s800-c-k-c0x00ffffff-no-rj",
            "width": 800
           },
           "medium": {
            "height": 240,
            "url": "https://yt3.ggpht.com/ytc/AIdro_kMqSvzMy05S-3Mv9LXE-HSu77mgwnCgSTiuA9B4Yt0fp4=s240-c-k-c0x00ffffff-no-rj",
            "width": 240
           }
          },
          "title": "Jofré Martin - Classical Guitar"
         },
         "statistics": {
          "hiddenSubscriberCount": false,
          "subscriberCount": "1150",
          "videoCount": "206",
          "viewCount": "235467"
         }
        }
       ],
       "kind": "youtube#channelListResponse",
       "pageInfo": {
        "resultsPerPage": 5,
        "totalResults": 1
       }
      },
      "text/plain": [
       "<IPython.core.display.JSON object>"
      ]
     },
     "execution_count": 17,
     "metadata": {
      "application/json": {
       "expanded": false,
       "root": "root"
      }
     },
     "output_type": "execute_result"
    }
   ],
   "source": [
    "api_service_name = \"youtube\"\n",
    "api_version = \"v3\"\n",
    "\n",
    "# Get credentials and create an API client\n",
    "youtube = build(\n",
    "    api_service_name, api_version, developerKey=api_key)\n",
    "\n",
    "request = youtube.channels().list(\n",
    "    part=\"snippet,contentDetails,statistics\",\n",
    "    id=','.join(channel_ids)\n",
    ")\n",
    "response = request.execute()\n",
    "\n",
    "JSON(response)"
   ]
  },
  {
   "cell_type": "code",
   "execution_count": 18,
   "id": "b2c58444-1040-44fa-bd34-81fcf5b7663a",
   "metadata": {},
   "outputs": [],
   "source": [
    "def get_stats(youtube, channel_ids):\n",
    "\n",
    "    all_data = []\n",
    "\n",
    "    request = youtube.channels().list(\n",
    "        part=\"snippet,contentDetails,statistics\",\n",
    "        id=\",\".join(channel_ids)\n",
    "    )\n",
    "    response = request.execute();\n",
    "\n",
    "    #looooooop\n",
    "    for item in response['items']:\n",
    "        data = {'channelName': item['snippet']['title'],\n",
    "                'subscribers': item['statistics']['subscriberCount'],\n",
    "                'views': item['statistics']['viewCount'],\n",
    "                'totalVideos': item['statistics']['videoCount'],\n",
    "                'playlistId': item['contentDetails']['relatedPlaylists']['uploads']\n",
    "               }\n",
    "\n",
    "        all_data.append(data)\n",
    "\n",
    "    return(pd.DataFrame(all_data))"
   ]
  },
  {
   "cell_type": "code",
   "execution_count": 19,
   "id": "b6c12446-6220-4ccc-b0e8-3a717fdfe64f",
   "metadata": {},
   "outputs": [],
   "source": [
    "channel_stats = get_stats(youtube, channel_ids)"
   ]
  },
  {
   "cell_type": "code",
   "execution_count": 20,
   "id": "984fb3b8-252a-4966-b7fa-b63d4e859877",
   "metadata": {},
   "outputs": [
    {
     "data": {
      "text/html": [
       "<div>\n",
       "<style scoped>\n",
       "    .dataframe tbody tr th:only-of-type {\n",
       "        vertical-align: middle;\n",
       "    }\n",
       "\n",
       "    .dataframe tbody tr th {\n",
       "        vertical-align: top;\n",
       "    }\n",
       "\n",
       "    .dataframe thead th {\n",
       "        text-align: right;\n",
       "    }\n",
       "</style>\n",
       "<table border=\"1\" class=\"dataframe\">\n",
       "  <thead>\n",
       "    <tr style=\"text-align: right;\">\n",
       "      <th></th>\n",
       "      <th>channelName</th>\n",
       "      <th>subscribers</th>\n",
       "      <th>views</th>\n",
       "      <th>totalVideos</th>\n",
       "      <th>playlistId</th>\n",
       "    </tr>\n",
       "  </thead>\n",
       "  <tbody>\n",
       "    <tr>\n",
       "      <th>0</th>\n",
       "      <td>Jofré Martin - Classical Guitar</td>\n",
       "      <td>1150</td>\n",
       "      <td>235467</td>\n",
       "      <td>206</td>\n",
       "      <td>UUVriwe7B3oulIK6FA-amy0g</td>\n",
       "    </tr>\n",
       "  </tbody>\n",
       "</table>\n",
       "</div>"
      ],
      "text/plain": [
       "                       channelName subscribers   views totalVideos  \\\n",
       "0  Jofré Martin - Classical Guitar        1150  235467         206   \n",
       "\n",
       "                 playlistId  \n",
       "0  UUVriwe7B3oulIK6FA-amy0g  "
      ]
     },
     "execution_count": 20,
     "metadata": {},
     "output_type": "execute_result"
    }
   ],
   "source": [
    "channel_stats"
   ]
  },
  {
   "cell_type": "code",
   "execution_count": 31,
   "id": "4006867c-1a97-40ee-ad57-c2bad2ab3dfd",
   "metadata": {
    "scrolled": true
   },
   "outputs": [
    {
     "data": {
      "application/json": {
       "etag": "9eugEZzXwAVKfCDMZIEsZd_N1Sc",
       "items": [
        {
         "contentDetails": {
          "itemCount": 8
         },
         "etag": "CcKkrw1-JP23259QTG5QeLmuUuQ",
         "id": "PL6VjWzvpT0r9D9vaIF8er-WIEVVN34wS-",
         "kind": "youtube#playlist",
         "snippet": {
          "channelId": "UCU4ZadLwXcQsZhdAMToxH_g",
          "channelTitle": "Robert Strong — Guitar & Concertina",
          "description": "",
          "localized": {
           "description": "",
           "title": "Fernando Sor 🇪🇸"
          },
          "publishedAt": "2025-03-10T21:08:05.712699Z",
          "thumbnails": {
           "default": {
            "height": 90,
            "url": "https://i.ytimg.com/vi/zFXiYPpw1wc/default.jpg",
            "width": 120
           },
           "high": {
            "height": 360,
            "url": "https://i.ytimg.com/vi/zFXiYPpw1wc/hqdefault.jpg",
            "width": 480
           },
           "maxres": {
            "height": 720,
            "url": "https://i.ytimg.com/vi/zFXiYPpw1wc/maxresdefault.jpg",
            "width": 1280
           },
           "medium": {
            "height": 180,
            "url": "https://i.ytimg.com/vi/zFXiYPpw1wc/mqdefault.jpg",
            "width": 320
           },
           "standard": {
            "height": 480,
            "url": "https://i.ytimg.com/vi/zFXiYPpw1wc/sddefault.jpg",
            "width": 640
           }
          },
          "title": "Fernando Sor 🇪🇸"
         }
        },
        {
         "contentDetails": {
          "itemCount": 6
         },
         "etag": "Ot8g6YDWEMIHduqHRYV2ldeqQ54",
         "id": "PL6VjWzvpT0r98_ws48k95Cf8-hwCyiY9R",
         "kind": "youtube#playlist",
         "snippet": {
          "channelId": "UCU4ZadLwXcQsZhdAMToxH_g",
          "channelTitle": "Robert Strong — Guitar & Concertina",
          "description": "",
          "localized": {
           "description": "",
           "title": "Ernest Shand 🏴󠁧󠁢󠁥󠁮󠁧󠁿"
          },
          "publishedAt": "2024-11-14T17:34:02.708531Z",
          "thumbnails": {
           "default": {
            "height": 90,
            "url": "https://i.ytimg.com/vi/Gadv0oBdfU0/default.jpg",
            "width": 120
           },
           "high": {
            "height": 360,
            "url": "https://i.ytimg.com/vi/Gadv0oBdfU0/hqdefault.jpg",
            "width": 480
           },
           "maxres": {
            "height": 720,
            "url": "https://i.ytimg.com/vi/Gadv0oBdfU0/maxresdefault.jpg",
            "width": 1280
           },
           "medium": {
            "height": 180,
            "url": "https://i.ytimg.com/vi/Gadv0oBdfU0/mqdefault.jpg",
            "width": 320
           },
           "standard": {
            "height": 480,
            "url": "https://i.ytimg.com/vi/Gadv0oBdfU0/sddefault.jpg",
            "width": 640
           }
          },
          "title": "Ernest Shand 🏴󠁧󠁢󠁥󠁮󠁧󠁿"
         }
        },
        {
         "contentDetails": {
          "itemCount": 3
         },
         "etag": "4fYRfUrDys9VkdA0F1kM4NvsD2A",
         "id": "PL6VjWzvpT0r_o2JN9H2-R8-8DOhOnJB0g",
         "kind": "youtube#playlist",
         "snippet": {
          "channelId": "UCU4ZadLwXcQsZhdAMToxH_g",
          "channelTitle": "Robert Strong — Guitar & Concertina",
          "description": "",
          "localized": {
           "description": "",
           "title": "Karl Eulenstein 🇩🇪"
          },
          "publishedAt": "2024-09-15T13:24:11.189002Z",
          "thumbnails": {
           "default": {
            "height": 90,
            "url": "https://i.ytimg.com/vi/7xagGnkQfEM/default.jpg",
            "width": 120
           },
           "high": {
            "height": 360,
            "url": "https://i.ytimg.com/vi/7xagGnkQfEM/hqdefault.jpg",
            "width": 480
           },
           "maxres": {
            "height": 720,
            "url": "https://i.ytimg.com/vi/7xagGnkQfEM/maxresdefault.jpg",
            "width": 1280
           },
           "medium": {
            "height": 180,
            "url": "https://i.ytimg.com/vi/7xagGnkQfEM/mqdefault.jpg",
            "width": 320
           },
           "standard": {
            "height": 480,
            "url": "https://i.ytimg.com/vi/7xagGnkQfEM/sddefault.jpg",
            "width": 640
           }
          },
          "title": "Karl Eulenstein 🇩🇪"
         }
        },
        {
         "contentDetails": {
          "itemCount": 17
         },
         "etag": "gJAe6ksMgRJQkKn9krSURixQM8U",
         "id": "PL6VjWzvpT0r9kEKYo73hs6vUKn1aeO58v",
         "kind": "youtube#playlist",
         "snippet": {
          "channelId": "UCU4ZadLwXcQsZhdAMToxH_g",
          "channelTitle": "Robert Strong — Guitar & Concertina",
          "description": "",
          "localized": {
           "description": "",
           "title": "Felix Horetzky 🇵🇱"
          },
          "publishedAt": "2024-08-25T20:47:04.689619Z",
          "thumbnails": {
           "default": {
            "height": 90,
            "url": "https://i.ytimg.com/vi/WcEtLfJzEbk/default.jpg",
            "width": 120
           },
           "high": {
            "height": 360,
            "url": "https://i.ytimg.com/vi/WcEtLfJzEbk/hqdefault.jpg",
            "width": 480
           },
           "maxres": {
            "height": 720,
            "url": "https://i.ytimg.com/vi/WcEtLfJzEbk/maxresdefault.jpg",
            "width": 1280
           },
           "medium": {
            "height": 180,
            "url": "https://i.ytimg.com/vi/WcEtLfJzEbk/mqdefault.jpg",
            "width": 320
           },
           "standard": {
            "height": 480,
            "url": "https://i.ytimg.com/vi/WcEtLfJzEbk/sddefault.jpg",
            "width": 640
           }
          },
          "title": "Felix Horetzky 🇵🇱"
         }
        },
        {
         "contentDetails": {
          "itemCount": 54
         },
         "etag": "nkaSz0lzqti5N_gNCOaatafLfXs",
         "id": "PL6VjWzvpT0r9MpI-gfg6wQ7ILIMfRz_6s",
         "kind": "youtube#playlist",
         "snippet": {
          "channelId": "UCU4ZadLwXcQsZhdAMToxH_g",
          "channelTitle": "Robert Strong — Guitar & Concertina",
          "description": "",
          "localized": {
           "description": "",
           "title": "score videos"
          },
          "publishedAt": "2024-07-11T04:20:11.66116Z",
          "thumbnails": {
           "default": {
            "height": 90,
            "url": "https://i.ytimg.com/vi/lP_vLU3t-Ok/default.jpg",
            "width": 120
           },
           "high": {
            "height": 360,
            "url": "https://i.ytimg.com/vi/lP_vLU3t-Ok/hqdefault.jpg",
            "width": 480
           },
           "maxres": {
            "height": 720,
            "url": "https://i.ytimg.com/vi/lP_vLU3t-Ok/maxresdefault.jpg",
            "width": 1280
           },
           "medium": {
            "height": 180,
            "url": "https://i.ytimg.com/vi/lP_vLU3t-Ok/mqdefault.jpg",
            "width": 320
           },
           "standard": {
            "height": 480,
            "url": "https://i.ytimg.com/vi/lP_vLU3t-Ok/sddefault.jpg",
            "width": 640
           }
          },
          "title": "score videos"
         }
        },
        {
         "contentDetails": {
          "itemCount": 9
         },
         "etag": "olLmDnbVfD2LX3p2ZucIbElAolA",
         "id": "PL6VjWzvpT0r-ewdflj3SbS-d2vxwdP_Zz",
         "kind": "youtube#playlist",
         "snippet": {
          "channelId": "UCU4ZadLwXcQsZhdAMToxH_g",
          "channelTitle": "Robert Strong — Guitar & Concertina",
          "description": "",
          "localized": {
           "description": "",
           "title": "original arrangements"
          },
          "publishedAt": "2024-07-11T04:19:41.439808Z",
          "thumbnails": {
           "default": {
            "height": 90,
            "url": "https://i.ytimg.com/vi/plNuW0vEcQ8/default.jpg",
            "width": 120
           },
           "high": {
            "height": 360,
            "url": "https://i.ytimg.com/vi/plNuW0vEcQ8/hqdefault.jpg",
            "width": 480
           },
           "maxres": {
            "height": 720,
            "url": "https://i.ytimg.com/vi/plNuW0vEcQ8/maxresdefault.jpg",
            "width": 1280
           },
           "medium": {
            "height": 180,
            "url": "https://i.ytimg.com/vi/plNuW0vEcQ8/mqdefault.jpg",
            "width": 320
           },
           "standard": {
            "height": 480,
            "url": "https://i.ytimg.com/vi/plNuW0vEcQ8/sddefault.jpg",
            "width": 640
           }
          },
          "title": "original arrangements"
         }
        }
       ],
       "kind": "youtube#playlistListResponse",
       "pageInfo": {
        "resultsPerPage": 25,
        "totalResults": 6
       }
      },
      "text/plain": [
       "<IPython.core.display.JSON object>"
      ]
     },
     "execution_count": 31,
     "metadata": {
      "application/json": {
       "expanded": false,
       "root": "root"
      }
     },
     "output_type": "execute_result"
    }
   ],
   "source": [
    "request = youtube.playlists().list(\n",
    "    part=\"snippet,contentDetails\",\n",
    "    channelId=\"UCU4ZadLwXcQsZhdAMToxH_g\",\n",
    "    maxResults=25\n",
    ")\n",
    "response=request.execute()\n",
    "\n",
    "JSON(response)"
   ]
  },
  {
   "cell_type": "code",
   "execution_count": 41,
   "id": "a038d8af-5c95-4d57-a2a3-310d28a3b46f",
   "metadata": {},
   "outputs": [],
   "source": [
    "playlist_id = \"PL6VjWzvpT0r9MpI-gfg6wQ7ILIMfRz_6s\"\n",
    "\n",
    "def get_video_ids(youtube, playlist_id):\n",
    "    video_ids=[]\n",
    "    request=youtube.playlistItems().list(\n",
    "        part=\"snippet,contentDetails\",\n",
    "        playlistId=playlist_id,\n",
    "        maxResults=50\n",
    "    )\n",
    "    response = request.execute()\n",
    "\n",
    "    for item in response['items']:\n",
    "        video_ids.append(item['contentDetails']['videoId'])\n",
    "\n",
    "    next_page_token = response.get('nextPageToken')\n",
    "    while next_page_token is not None:\n",
    "        request=youtube.playlistItems().list(\n",
    "            part=\"snippet,contentDetails\",\n",
    "            playlistId=playlist_id,\n",
    "            maxResults=50,\n",
    "            pageToken = next_page_token)\n",
    "        response = request.execute()\n",
    "        for item in response['items']:\n",
    "            video_ids.append(item['contentDetails']['videoId'])\n",
    "        next_page_token = response.get('nextPageToken')\n",
    "\n",
    "    return video_ids"
   ]
  },
  {
   "cell_type": "code",
   "execution_count": 42,
   "id": "445ef807-bac7-4cc4-838f-97330e913567",
   "metadata": {},
   "outputs": [
    {
     "data": {
      "text/plain": [
       "54"
      ]
     },
     "execution_count": 42,
     "metadata": {},
     "output_type": "execute_result"
    }
   ],
   "source": [
    "video_ids = get_video_ids(youtube,playlist_id)\n",
    "len(video_ids)"
   ]
  },
  {
   "cell_type": "code",
   "execution_count": 43,
   "id": "d53e503c-8600-46bf-9706-a63f8471aa78",
   "metadata": {},
   "outputs": [],
   "source": [
    "def get_video_info(youtube,video_ids):\n",
    "\n",
    "    all_video_info = []\n",
    "\n",
    "    for i in range(0,len(video_ids),50):\n",
    "        request = youtube.videos().list(\n",
    "            part='snippet,contentDetails,statistics',\n",
    "            id=','.join(video_ids[i:i+50])\n",
    "        )\n",
    "        response = request.execute()\n",
    "        JSON(response)\n",
    "        \n",
    "        for video in response['items']:\n",
    "            desired_stats = {'snippet': ['channelTitle','title','tags','publishedAt'],\n",
    "                             'statistics': ['viewCount','likeCount','favoriteCount','commentCount'],\n",
    "                             'contentDetails': ['duration']}\n",
    "            video_info = {}\n",
    "            video_info['video_id'] = video['id']\n",
    "        \n",
    "            for k in desired_stats.keys():\n",
    "                for v in desired_stats[k]:\n",
    "                    try:\n",
    "                        video_info[v] = video[k][v]\n",
    "                    except:\n",
    "                        video_info[v] = None\n",
    "        \n",
    "            all_video_info.append(video_info)\n",
    "\n",
    "    return pd.DataFrame(all_video_info)"
   ]
  },
  {
   "cell_type": "code",
   "execution_count": 44,
   "id": "a577195d-91ae-4993-9613-f3afd2b9c387",
   "metadata": {},
   "outputs": [],
   "source": [
    "videos_df = get_video_info(youtube,video_ids)"
   ]
  },
  {
   "cell_type": "code",
   "execution_count": 45,
   "id": "871e1cd6-11b1-4a05-9521-6ab2103f5dca",
   "metadata": {},
   "outputs": [],
   "source": [
    "# data time"
   ]
  },
  {
   "cell_type": "code",
   "execution_count": 46,
   "id": "285e65e1-4bac-45c7-8645-e1864b5fd9c3",
   "metadata": {},
   "outputs": [
    {
     "data": {
      "text/plain": [
       "video_id         object\n",
       "channelTitle     object\n",
       "title            object\n",
       "tags             object\n",
       "publishedAt      object\n",
       "viewCount        object\n",
       "likeCount        object\n",
       "favoriteCount    object\n",
       "commentCount     object\n",
       "duration         object\n",
       "dtype: object"
      ]
     },
     "execution_count": 46,
     "metadata": {},
     "output_type": "execute_result"
    }
   ],
   "source": [
    "videos_df.dtypes"
   ]
  },
  {
   "cell_type": "code",
   "execution_count": 47,
   "id": "1b97cc68-b5d7-4609-84d2-d8c22bed6cd2",
   "metadata": {},
   "outputs": [],
   "source": [
    "numeric_columns = ['viewCount','likeCount','favoriteCount','commentCount']\n",
    "videos_df[numeric_columns] = videos_df[numeric_columns].apply(pd.to_numeric, errors='coerce',axis=1)"
   ]
  },
  {
   "cell_type": "code",
   "execution_count": 48,
   "id": "d270560e-309a-4596-8fa8-1c6167398c7e",
   "metadata": {},
   "outputs": [
    {
     "data": {
      "text/html": [
       "<div>\n",
       "<style scoped>\n",
       "    .dataframe tbody tr th:only-of-type {\n",
       "        vertical-align: middle;\n",
       "    }\n",
       "\n",
       "    .dataframe tbody tr th {\n",
       "        vertical-align: top;\n",
       "    }\n",
       "\n",
       "    .dataframe thead th {\n",
       "        text-align: right;\n",
       "    }\n",
       "</style>\n",
       "<table border=\"1\" class=\"dataframe\">\n",
       "  <thead>\n",
       "    <tr style=\"text-align: right;\">\n",
       "      <th></th>\n",
       "      <th>title</th>\n",
       "      <th>viewCount</th>\n",
       "      <th>likeCount</th>\n",
       "      <th>commentCount</th>\n",
       "      <th>composer</th>\n",
       "      <th>composer_forename</th>\n",
       "      <th>composer_surname</th>\n",
       "    </tr>\n",
       "  </thead>\n",
       "  <tbody>\n",
       "    <tr>\n",
       "      <th>0</th>\n",
       "      <td>Minuet in C Minor, Op. 24 No. 1</td>\n",
       "      <td>355</td>\n",
       "      <td>3</td>\n",
       "      <td>0</td>\n",
       "      <td>F. Sor</td>\n",
       "      <td>F.</td>\n",
       "      <td>Sor</td>\n",
       "    </tr>\n",
       "    <tr>\n",
       "      <th>1</th>\n",
       "      <td>Minuet, D.334</td>\n",
       "      <td>518</td>\n",
       "      <td>22</td>\n",
       "      <td>3</td>\n",
       "      <td>Schubert</td>\n",
       "      <td>None</td>\n",
       "      <td>Schubert</td>\n",
       "    </tr>\n",
       "    <tr>\n",
       "      <th>2</th>\n",
       "      <td>The Lothian Lassie</td>\n",
       "      <td>291</td>\n",
       "      <td>5</td>\n",
       "      <td>0</td>\n",
       "      <td>None</td>\n",
       "      <td>None</td>\n",
       "      <td>None</td>\n",
       "    </tr>\n",
       "    <tr>\n",
       "      <th>3</th>\n",
       "      <td>Andante Study, Op. 100 No. 42</td>\n",
       "      <td>1129</td>\n",
       "      <td>40</td>\n",
       "      <td>9</td>\n",
       "      <td>Ernest Shand</td>\n",
       "      <td>Ernest</td>\n",
       "      <td>Shand</td>\n",
       "    </tr>\n",
       "    <tr>\n",
       "      <th>4</th>\n",
       "      <td>Allegretto Study, Op. 100 No. 44</td>\n",
       "      <td>1658</td>\n",
       "      <td>49</td>\n",
       "      <td>4</td>\n",
       "      <td>Ernest Shand</td>\n",
       "      <td>Ernest</td>\n",
       "      <td>Shand</td>\n",
       "    </tr>\n",
       "    <tr>\n",
       "      <th>5</th>\n",
       "      <td>Étude Andantino</td>\n",
       "      <td>874</td>\n",
       "      <td>17</td>\n",
       "      <td>0</td>\n",
       "      <td>Felix Horetzky</td>\n",
       "      <td>Felix</td>\n",
       "      <td>Horetzky</td>\n",
       "    </tr>\n",
       "    <tr>\n",
       "      <th>6</th>\n",
       "      <td>Schottische</td>\n",
       "      <td>1944</td>\n",
       "      <td>42</td>\n",
       "      <td>4</td>\n",
       "      <td>Pascual Roch</td>\n",
       "      <td>Pascual</td>\n",
       "      <td>Roch</td>\n",
       "    </tr>\n",
       "    <tr>\n",
       "      <th>7</th>\n",
       "      <td>Valse</td>\n",
       "      <td>2182</td>\n",
       "      <td>56</td>\n",
       "      <td>4</td>\n",
       "      <td>Pascual Roch</td>\n",
       "      <td>Pascual</td>\n",
       "      <td>Roch</td>\n",
       "    </tr>\n",
       "    <tr>\n",
       "      <th>8</th>\n",
       "      <td>Étude Moderato</td>\n",
       "      <td>715</td>\n",
       "      <td>28</td>\n",
       "      <td>4</td>\n",
       "      <td>Felix Horetzky</td>\n",
       "      <td>Felix</td>\n",
       "      <td>Horetzky</td>\n",
       "    </tr>\n",
       "    <tr>\n",
       "      <th>9</th>\n",
       "      <td>Adagio</td>\n",
       "      <td>1381</td>\n",
       "      <td>39</td>\n",
       "      <td>4</td>\n",
       "      <td>Felix Horetzky</td>\n",
       "      <td>Felix</td>\n",
       "      <td>Horetzky</td>\n",
       "    </tr>\n",
       "    <tr>\n",
       "      <th>10</th>\n",
       "      <td>Eleanor Plunkett</td>\n",
       "      <td>1299</td>\n",
       "      <td>33</td>\n",
       "      <td>6</td>\n",
       "      <td>Turlough O'Carolan</td>\n",
       "      <td>Turlough</td>\n",
       "      <td>O'Carolan</td>\n",
       "    </tr>\n",
       "    <tr>\n",
       "      <th>11</th>\n",
       "      <td>Amusemen, Op. 18 No. 8</td>\n",
       "      <td>673</td>\n",
       "      <td>24</td>\n",
       "      <td>4</td>\n",
       "      <td>Felix Horetzky</td>\n",
       "      <td>Felix</td>\n",
       "      <td>Horetzky</td>\n",
       "    </tr>\n",
       "    <tr>\n",
       "      <th>12</th>\n",
       "      <td>Amusemen, Op. 18 No. 10</td>\n",
       "      <td>452</td>\n",
       "      <td>10</td>\n",
       "      <td>0</td>\n",
       "      <td>Felix Horetzky</td>\n",
       "      <td>Felix</td>\n",
       "      <td>Horetzky</td>\n",
       "    </tr>\n",
       "    <tr>\n",
       "      <th>13</th>\n",
       "      <td>Andantino, Op. 23 No. 4</td>\n",
       "      <td>1172</td>\n",
       "      <td>20</td>\n",
       "      <td>0</td>\n",
       "      <td>Felix Horetzky</td>\n",
       "      <td>Felix</td>\n",
       "      <td>Horetzky</td>\n",
       "    </tr>\n",
       "    <tr>\n",
       "      <th>14</th>\n",
       "      <td>Siciliana, Op. 23 No. 3</td>\n",
       "      <td>693</td>\n",
       "      <td>19</td>\n",
       "      <td>0</td>\n",
       "      <td>Felix Horetzky</td>\n",
       "      <td>Felix</td>\n",
       "      <td>Horetzky</td>\n",
       "    </tr>\n",
       "    <tr>\n",
       "      <th>15</th>\n",
       "      <td>Alla Marcia, Op. 23 No. 2</td>\n",
       "      <td>610</td>\n",
       "      <td>22</td>\n",
       "      <td>4</td>\n",
       "      <td>Felix Horetzky</td>\n",
       "      <td>Felix</td>\n",
       "      <td>Horetzky</td>\n",
       "    </tr>\n",
       "    <tr>\n",
       "      <th>16</th>\n",
       "      <td>Allegretto, Op. 23 No. 12</td>\n",
       "      <td>636</td>\n",
       "      <td>14</td>\n",
       "      <td>2</td>\n",
       "      <td>Felix Horetzky</td>\n",
       "      <td>Felix</td>\n",
       "      <td>Horetzky</td>\n",
       "    </tr>\n",
       "    <tr>\n",
       "      <th>17</th>\n",
       "      <td>Amusemen, Op. 18 No. 9</td>\n",
       "      <td>471</td>\n",
       "      <td>12</td>\n",
       "      <td>3</td>\n",
       "      <td>Felix Horetzky</td>\n",
       "      <td>Felix</td>\n",
       "      <td>Horetzky</td>\n",
       "    </tr>\n",
       "    <tr>\n",
       "      <th>18</th>\n",
       "      <td>Valse, Op. 23 No. 1</td>\n",
       "      <td>817</td>\n",
       "      <td>17</td>\n",
       "      <td>3</td>\n",
       "      <td>Felix Horetzky</td>\n",
       "      <td>Felix</td>\n",
       "      <td>Horetzky</td>\n",
       "    </tr>\n",
       "    <tr>\n",
       "      <th>19</th>\n",
       "      <td>Minuetto 5 from Op. 3</td>\n",
       "      <td>993</td>\n",
       "      <td>27</td>\n",
       "      <td>7</td>\n",
       "      <td>Giacomo Merchi</td>\n",
       "      <td>Giacomo</td>\n",
       "      <td>Merchi</td>\n",
       "    </tr>\n",
       "    <tr>\n",
       "      <th>20</th>\n",
       "      <td>Rondo 2 from Op. 10</td>\n",
       "      <td>707</td>\n",
       "      <td>16</td>\n",
       "      <td>2</td>\n",
       "      <td>Karl Eulenstein</td>\n",
       "      <td>Karl</td>\n",
       "      <td>Eulenstein</td>\n",
       "    </tr>\n",
       "    <tr>\n",
       "      <th>21</th>\n",
       "      <td>Gavotte, Op. 69 No. 1</td>\n",
       "      <td>2732</td>\n",
       "      <td>91</td>\n",
       "      <td>4</td>\n",
       "      <td>Ernest Shand</td>\n",
       "      <td>Ernest</td>\n",
       "      <td>Shand</td>\n",
       "    </tr>\n",
       "    <tr>\n",
       "      <th>22</th>\n",
       "      <td>Après le bal, Op.98 No.13</td>\n",
       "      <td>2316</td>\n",
       "      <td>70</td>\n",
       "      <td>12</td>\n",
       "      <td>A. Gretchaninoff</td>\n",
       "      <td>A.</td>\n",
       "      <td>Gretchaninoff</td>\n",
       "    </tr>\n",
       "    <tr>\n",
       "      <th>23</th>\n",
       "      <td>Cantabile Study, Op. 31 No. 10</td>\n",
       "      <td>992</td>\n",
       "      <td>22</td>\n",
       "      <td>0</td>\n",
       "      <td>F. Sor</td>\n",
       "      <td>F.</td>\n",
       "      <td>Sor</td>\n",
       "    </tr>\n",
       "    <tr>\n",
       "      <th>24</th>\n",
       "      <td>Mouvement de prière religieuse, Op. 31 No. 23</td>\n",
       "      <td>674</td>\n",
       "      <td>16</td>\n",
       "      <td>0</td>\n",
       "      <td>F. Sor</td>\n",
       "      <td>F.</td>\n",
       "      <td>Sor</td>\n",
       "    </tr>\n",
       "    <tr>\n",
       "      <th>25</th>\n",
       "      <td>Minuetto 2 from Op. 3</td>\n",
       "      <td>1063</td>\n",
       "      <td>23</td>\n",
       "      <td>4</td>\n",
       "      <td>Giacomo Merchi</td>\n",
       "      <td>Giacomo</td>\n",
       "      <td>Merchi</td>\n",
       "    </tr>\n",
       "    <tr>\n",
       "      <th>26</th>\n",
       "      <td>Valse Sostenuto, B. 133</td>\n",
       "      <td>6732</td>\n",
       "      <td>146</td>\n",
       "      <td>6</td>\n",
       "      <td>Chopin</td>\n",
       "      <td>None</td>\n",
       "      <td>Chopin</td>\n",
       "    </tr>\n",
       "    <tr>\n",
       "      <th>27</th>\n",
       "      <td>Scotch Air</td>\n",
       "      <td>701</td>\n",
       "      <td>15</td>\n",
       "      <td>0</td>\n",
       "      <td>Felix Horetzky</td>\n",
       "      <td>Felix</td>\n",
       "      <td>Horetzky</td>\n",
       "    </tr>\n",
       "    <tr>\n",
       "      <th>28</th>\n",
       "      <td>Chiome d'oro, bel thesoro</td>\n",
       "      <td>1690</td>\n",
       "      <td>40</td>\n",
       "      <td>4</td>\n",
       "      <td>Claudio Monteverdi</td>\n",
       "      <td>Claudio</td>\n",
       "      <td>Monteverdi</td>\n",
       "    </tr>\n",
       "    <tr>\n",
       "      <th>29</th>\n",
       "      <td>Coral de Haendel</td>\n",
       "      <td>1595</td>\n",
       "      <td>36</td>\n",
       "      <td>3</td>\n",
       "      <td>Francisco Tárrega</td>\n",
       "      <td>Francisco</td>\n",
       "      <td>Tárrega</td>\n",
       "    </tr>\n",
       "    <tr>\n",
       "      <th>30</th>\n",
       "      <td>Waltz, No. 2 from Souvenir de Bath</td>\n",
       "      <td>565</td>\n",
       "      <td>13</td>\n",
       "      <td>1</td>\n",
       "      <td>Karl Eulenstein</td>\n",
       "      <td>Karl</td>\n",
       "      <td>Eulenstein</td>\n",
       "    </tr>\n",
       "    <tr>\n",
       "      <th>31</th>\n",
       "      <td>Podolian Air</td>\n",
       "      <td>940</td>\n",
       "      <td>24</td>\n",
       "      <td>2</td>\n",
       "      <td>Felix Horetzky</td>\n",
       "      <td>Felix</td>\n",
       "      <td>Horetzky</td>\n",
       "    </tr>\n",
       "    <tr>\n",
       "      <th>32</th>\n",
       "      <td>Allegretto in D</td>\n",
       "      <td>2002</td>\n",
       "      <td>37</td>\n",
       "      <td>0</td>\n",
       "      <td>Mauro Giuliani</td>\n",
       "      <td>Mauro</td>\n",
       "      <td>Giuliani</td>\n",
       "    </tr>\n",
       "    <tr>\n",
       "      <th>33</th>\n",
       "      <td>Тебе поем</td>\n",
       "      <td>582</td>\n",
       "      <td>23</td>\n",
       "      <td>2</td>\n",
       "      <td>Pavel Chesnokov</td>\n",
       "      <td>Pavel</td>\n",
       "      <td>Chesnokov</td>\n",
       "    </tr>\n",
       "    <tr>\n",
       "      <th>34</th>\n",
       "      <td>Russian Hymn</td>\n",
       "      <td>646</td>\n",
       "      <td>28</td>\n",
       "      <td>0</td>\n",
       "      <td>Felix Horetzky</td>\n",
       "      <td>Felix</td>\n",
       "      <td>Horetzky</td>\n",
       "    </tr>\n",
       "    <tr>\n",
       "      <th>35</th>\n",
       "      <td>Rousseau's Dream</td>\n",
       "      <td>793</td>\n",
       "      <td>18</td>\n",
       "      <td>5</td>\n",
       "      <td>Felix Horetzky</td>\n",
       "      <td>Felix</td>\n",
       "      <td>Horetzky</td>\n",
       "    </tr>\n",
       "    <tr>\n",
       "      <th>36</th>\n",
       "      <td>Étude Op. 35 No. 17</td>\n",
       "      <td>2163</td>\n",
       "      <td>60</td>\n",
       "      <td>0</td>\n",
       "      <td>Fernando Sor</td>\n",
       "      <td>Fernando</td>\n",
       "      <td>Sor</td>\n",
       "    </tr>\n",
       "    <tr>\n",
       "      <th>37</th>\n",
       "      <td>Andantino Cantabile, Op. 18 No. 1</td>\n",
       "      <td>1035</td>\n",
       "      <td>26</td>\n",
       "      <td>0</td>\n",
       "      <td>Felix Horetzky</td>\n",
       "      <td>Felix</td>\n",
       "      <td>Horetzky</td>\n",
       "    </tr>\n",
       "    <tr>\n",
       "      <th>38</th>\n",
       "      <td>Introduction and Rondo 1 from Op. 10</td>\n",
       "      <td>1903</td>\n",
       "      <td>49</td>\n",
       "      <td>2</td>\n",
       "      <td>Karl Eulenstein</td>\n",
       "      <td>Karl</td>\n",
       "      <td>Eulenstein</td>\n",
       "    </tr>\n",
       "    <tr>\n",
       "      <th>39</th>\n",
       "      <td>Barré Valse Study</td>\n",
       "      <td>3859</td>\n",
       "      <td>81</td>\n",
       "      <td>2</td>\n",
       "      <td>Ernest Shand</td>\n",
       "      <td>Ernest</td>\n",
       "      <td>Shand</td>\n",
       "    </tr>\n",
       "    <tr>\n",
       "      <th>40</th>\n",
       "      <td>Andantino in G Major</td>\n",
       "      <td>1704</td>\n",
       "      <td>29</td>\n",
       "      <td>0</td>\n",
       "      <td>Ferdinando Carulli</td>\n",
       "      <td>Ferdinando</td>\n",
       "      <td>Carulli</td>\n",
       "    </tr>\n",
       "    <tr>\n",
       "      <th>41</th>\n",
       "      <td>Minuetto, Op. 2 No. 1</td>\n",
       "      <td>946</td>\n",
       "      <td>22</td>\n",
       "      <td>0</td>\n",
       "      <td>F. Sor</td>\n",
       "      <td>F.</td>\n",
       "      <td>Sor</td>\n",
       "    </tr>\n",
       "    <tr>\n",
       "      <th>42</th>\n",
       "      <td>Divertissements Op. 8 No. 2, Waltz</td>\n",
       "      <td>2573</td>\n",
       "      <td>45</td>\n",
       "      <td>0</td>\n",
       "      <td>F. Sor</td>\n",
       "      <td>F.</td>\n",
       "      <td>Sor</td>\n",
       "    </tr>\n",
       "    <tr>\n",
       "      <th>43</th>\n",
       "      <td>Divertissements Op. 8 No. 6, Waltz</td>\n",
       "      <td>3039</td>\n",
       "      <td>64</td>\n",
       "      <td>0</td>\n",
       "      <td>F. Sor</td>\n",
       "      <td>F.</td>\n",
       "      <td>Sor</td>\n",
       "    </tr>\n",
       "    <tr>\n",
       "      <th>44</th>\n",
       "      <td>Etude Op. 60 No. 10</td>\n",
       "      <td>738</td>\n",
       "      <td>23</td>\n",
       "      <td>0</td>\n",
       "      <td>Matteo Carcassi</td>\n",
       "      <td>Matteo</td>\n",
       "      <td>Carcassi</td>\n",
       "    </tr>\n",
       "    <tr>\n",
       "      <th>45</th>\n",
       "      <td>Gavotte in D Minor</td>\n",
       "      <td>3957</td>\n",
       "      <td>74</td>\n",
       "      <td>0</td>\n",
       "      <td>Robert de Visée</td>\n",
       "      <td>Robert</td>\n",
       "      <td>de Visée</td>\n",
       "    </tr>\n",
       "    <tr>\n",
       "      <th>46</th>\n",
       "      <td>Sicilianisch, Op.68 No.11</td>\n",
       "      <td>759</td>\n",
       "      <td>10</td>\n",
       "      <td>1</td>\n",
       "      <td>R. Schumann</td>\n",
       "      <td>R.</td>\n",
       "      <td>Schumann</td>\n",
       "    </tr>\n",
       "    <tr>\n",
       "      <th>47</th>\n",
       "      <td>Op.18 No.1, Andantino Cantabile</td>\n",
       "      <td>853</td>\n",
       "      <td>13</td>\n",
       "      <td>1</td>\n",
       "      <td>Felix Horetzky</td>\n",
       "      <td>Felix</td>\n",
       "      <td>Horetzky</td>\n",
       "    </tr>\n",
       "    <tr>\n",
       "      <th>48</th>\n",
       "      <td>Que ne suis-je grand!, Op.98 No.15</td>\n",
       "      <td>2233</td>\n",
       "      <td>46</td>\n",
       "      <td>5</td>\n",
       "      <td>A. Gretchaninoff</td>\n",
       "      <td>A.</td>\n",
       "      <td>Gretchaninoff</td>\n",
       "    </tr>\n",
       "    <tr>\n",
       "      <th>49</th>\n",
       "      <td>4 Easy Pieces, No.4 Andante</td>\n",
       "      <td>3245</td>\n",
       "      <td>58</td>\n",
       "      <td>0</td>\n",
       "      <td>J.K. Mertz</td>\n",
       "      <td>J.K.</td>\n",
       "      <td>Mertz</td>\n",
       "    </tr>\n",
       "    <tr>\n",
       "      <th>50</th>\n",
       "      <td>El testament d'Amèlia</td>\n",
       "      <td>6595</td>\n",
       "      <td>162</td>\n",
       "      <td>10</td>\n",
       "      <td>Miguel Llobet Solés</td>\n",
       "      <td>Miguel</td>\n",
       "      <td>Llobet Solés</td>\n",
       "    </tr>\n",
       "    <tr>\n",
       "      <th>51</th>\n",
       "      <td>Op.43 No.1</td>\n",
       "      <td>2319</td>\n",
       "      <td>50</td>\n",
       "      <td>5</td>\n",
       "      <td>F. Sor</td>\n",
       "      <td>F.</td>\n",
       "      <td>Sor</td>\n",
       "    </tr>\n",
       "    <tr>\n",
       "      <th>52</th>\n",
       "      <td>Andantino in G Major, Op.241</td>\n",
       "      <td>8676</td>\n",
       "      <td>154</td>\n",
       "      <td>5</td>\n",
       "      <td>Ferdinando Carulli</td>\n",
       "      <td>Ferdinando</td>\n",
       "      <td>Carulli</td>\n",
       "    </tr>\n",
       "    <tr>\n",
       "      <th>53</th>\n",
       "      <td>Andante Chorale, Op. 100 No. 33</td>\n",
       "      <td>54</td>\n",
       "      <td>3</td>\n",
       "      <td>2</td>\n",
       "      <td>Ernest Shand</td>\n",
       "      <td>Ernest</td>\n",
       "      <td>Shand</td>\n",
       "    </tr>\n",
       "  </tbody>\n",
       "</table>\n",
       "</div>"
      ],
      "text/plain": [
       "                                              title  viewCount  likeCount  \\\n",
       "0                  Minuet in C Minor, Op. 24 No. 1         355          3   \n",
       "1                                    Minuet, D.334         518         22   \n",
       "2                               The Lothian Lassie         291          5   \n",
       "3                    Andante Study, Op. 100 No. 42        1129         40   \n",
       "4                 Allegretto Study, Op. 100 No. 44        1658         49   \n",
       "5                                  Étude Andantino         874         17   \n",
       "6                                      Schottische        1944         42   \n",
       "7                                            Valse        2182         56   \n",
       "8                                   Étude Moderato         715         28   \n",
       "9                                           Adagio        1381         39   \n",
       "10                                Eleanor Plunkett        1299         33   \n",
       "11                          Amusemen, Op. 18 No. 8         673         24   \n",
       "12                         Amusemen, Op. 18 No. 10         452         10   \n",
       "13                         Andantino, Op. 23 No. 4        1172         20   \n",
       "14                         Siciliana, Op. 23 No. 3         693         19   \n",
       "15                       Alla Marcia, Op. 23 No. 2         610         22   \n",
       "16                       Allegretto, Op. 23 No. 12         636         14   \n",
       "17                          Amusemen, Op. 18 No. 9         471         12   \n",
       "18                             Valse, Op. 23 No. 1         817         17   \n",
       "19                           Minuetto 5 from Op. 3         993         27   \n",
       "20                             Rondo 2 from Op. 10         707         16   \n",
       "21                           Gavotte, Op. 69 No. 1        2732         91   \n",
       "22                       Après le bal, Op.98 No.13        2316         70   \n",
       "23                  Cantabile Study, Op. 31 No. 10         992         22   \n",
       "24   Mouvement de prière religieuse, Op. 31 No. 23         674         16   \n",
       "25                           Minuetto 2 from Op. 3        1063         23   \n",
       "26                         Valse Sostenuto, B. 133        6732        146   \n",
       "27                                      Scotch Air         701         15   \n",
       "28                       Chiome d'oro, bel thesoro        1690         40   \n",
       "29                                Coral de Haendel        1595         36   \n",
       "30              Waltz, No. 2 from Souvenir de Bath         565         13   \n",
       "31                                    Podolian Air         940         24   \n",
       "32                                 Allegretto in D        2002         37   \n",
       "33                                       Тебе поем         582         23   \n",
       "34                                    Russian Hymn         646         28   \n",
       "35                                Rousseau's Dream         793         18   \n",
       "36                             Étude Op. 35 No. 17        2163         60   \n",
       "37               Andantino Cantabile, Op. 18 No. 1        1035         26   \n",
       "38            Introduction and Rondo 1 from Op. 10        1903         49   \n",
       "39                               Barré Valse Study        3859         81   \n",
       "40                            Andantino in G Major        1704         29   \n",
       "41                           Minuetto, Op. 2 No. 1         946         22   \n",
       "42              Divertissements Op. 8 No. 2, Waltz        2573         45   \n",
       "43              Divertissements Op. 8 No. 6, Waltz        3039         64   \n",
       "44                             Etude Op. 60 No. 10         738         23   \n",
       "45                              Gavotte in D Minor        3957         74   \n",
       "46                       Sicilianisch, Op.68 No.11         759         10   \n",
       "47                 Op.18 No.1, Andantino Cantabile         853         13   \n",
       "48              Que ne suis-je grand!, Op.98 No.15        2233         46   \n",
       "49                     4 Easy Pieces, No.4 Andante        3245         58   \n",
       "50                           El testament d'Amèlia        6595        162   \n",
       "51                                      Op.43 No.1        2319         50   \n",
       "52                    Andantino in G Major, Op.241        8676        154   \n",
       "53                  Andante Chorale, Op. 100 No. 33         54          3   \n",
       "\n",
       "    commentCount              composer composer_forename composer_surname  \n",
       "0              0               F. Sor                 F.             Sor   \n",
       "1              3             Schubert               None         Schubert  \n",
       "2              0                  None              None             None  \n",
       "3              9         Ernest Shand             Ernest           Shand   \n",
       "4              4         Ernest Shand             Ernest           Shand   \n",
       "5              0       Felix Horetzky              Felix        Horetzky   \n",
       "6              4         Pascual Roch            Pascual            Roch   \n",
       "7              4         Pascual Roch            Pascual            Roch   \n",
       "8              4       Felix Horetzky              Felix        Horetzky   \n",
       "9              4       Felix Horetzky              Felix        Horetzky   \n",
       "10             6   Turlough O'Carolan           Turlough       O'Carolan   \n",
       "11             4       Felix Horetzky              Felix        Horetzky   \n",
       "12             0       Felix Horetzky              Felix        Horetzky   \n",
       "13             0       Felix Horetzky              Felix        Horetzky   \n",
       "14             0       Felix Horetzky              Felix        Horetzky   \n",
       "15             4       Felix Horetzky              Felix        Horetzky   \n",
       "16             2       Felix Horetzky              Felix        Horetzky   \n",
       "17             3       Felix Horetzky              Felix        Horetzky   \n",
       "18             3       Felix Horetzky              Felix        Horetzky   \n",
       "19             7       Giacomo Merchi            Giacomo          Merchi   \n",
       "20             2      Karl Eulenstein               Karl      Eulenstein   \n",
       "21             4         Ernest Shand             Ernest           Shand   \n",
       "22            12     A. Gretchaninoff                 A.   Gretchaninoff   \n",
       "23             0               F. Sor                 F.             Sor   \n",
       "24             0               F. Sor                 F.             Sor   \n",
       "25             4       Giacomo Merchi            Giacomo          Merchi   \n",
       "26             6               Chopin               None           Chopin  \n",
       "27             0       Felix Horetzky              Felix        Horetzky   \n",
       "28             4   Claudio Monteverdi            Claudio      Monteverdi   \n",
       "29             3    Francisco Tárrega          Francisco         Tárrega   \n",
       "30             1      Karl Eulenstein               Karl      Eulenstein   \n",
       "31             2       Felix Horetzky              Felix        Horetzky   \n",
       "32             0       Mauro Giuliani              Mauro        Giuliani   \n",
       "33             2      Pavel Chesnokov              Pavel       Chesnokov   \n",
       "34             0       Felix Horetzky              Felix        Horetzky   \n",
       "35             5       Felix Horetzky              Felix        Horetzky   \n",
       "36             0         Fernando Sor           Fernando             Sor   \n",
       "37             0       Felix Horetzky              Felix        Horetzky   \n",
       "38             2      Karl Eulenstein               Karl      Eulenstein   \n",
       "39             2         Ernest Shand             Ernest           Shand   \n",
       "40             0   Ferdinando Carulli         Ferdinando         Carulli   \n",
       "41             0               F. Sor                 F.             Sor   \n",
       "42             0               F. Sor                 F.             Sor   \n",
       "43             0               F. Sor                 F.             Sor   \n",
       "44             0      Matteo Carcassi             Matteo        Carcassi   \n",
       "45             0      Robert de Visée             Robert        de Visée   \n",
       "46             1          R. Schumann                 R.        Schumann   \n",
       "47             1       Felix Horetzky              Felix        Horetzky   \n",
       "48             5     A. Gretchaninoff                 A.   Gretchaninoff   \n",
       "49             0           J.K. Mertz               J.K.           Mertz   \n",
       "50            10  Miguel Llobet Solés             Miguel    Llobet Solés   \n",
       "51             5               F. Sor                 F.             Sor   \n",
       "52             5   Ferdinando Carulli         Ferdinando         Carulli   \n",
       "53             2         Ernest Shand             Ernest           Shand   "
      ]
     },
     "execution_count": 48,
     "metadata": {},
     "output_type": "execute_result"
    }
   ],
   "source": [
    "# get composers & titles\n",
    "\n",
    "videos_df = pd.DataFrame(videos_df[['title','viewCount','likeCount','commentCount']])\n",
    "composers_df = pd.DataFrame\n",
    "titles_df = pd.DataFrame\n",
    "videos_df[['composer','title']] = videos_df['title'].str.split('-',n=1,expand=True)\n",
    "\n",
    "# get composer info\n",
    "videos_df[['composer_forename','composer_surname']] = videos_df['composer'].str.split(' ',n=1,expand=True)\n",
    "\n",
    "videos_df.loc[videos_df['composer_surname'].apply(lambda x: pd.isna(x) or x == ''), 'composer_surname'] = videos_df['composer_forename']\n",
    "videos_df.loc[videos_df['composer_surname'] == videos_df['composer_forename'], 'composer_forename'] = None\n",
    "\n",
    "# if no composer\n",
    "videos_df.loc[videos_df['title'].isna(), 'title'] = videos_df['composer']\n",
    "videos_df.loc[videos_df['title'] == videos_df['composer'], ['composer','composer_surname','composer_forename']] = None\n",
    "\n",
    "# remove parenthetical info\n",
    "videos_df['title'] = videos_df['title'].str.split('(',n=1,expand=True)[0]\n",
    "\n",
    "videos_df"
   ]
  },
  {
   "cell_type": "code",
   "execution_count": 49,
   "id": "5dddf951-5c63-4d6c-914a-a29dfbeb724c",
   "metadata": {},
   "outputs": [
    {
     "data": {
      "image/png": "[encoded data removed]",
      "text/plain": [
       "<Figure size 1000x600 with 1 Axes>"
      ]
     },
     "metadata": {},
     "output_type": "display_data"
    }
   ],
   "source": [
    "composer_data = pd.DataFrame(videos_df, columns=['title','composer_surname','viewCount'])\n",
    "\n",
    "plt.figure(figsize=(10, 6))\n",
    "plt.xticks(fontsize=8)\n",
    "plt.yticks(fontsize=10)\n",
    "plt.xlabel('Views',labelpad=10)\n",
    "plt.ylabel('Composer',labelpad=10)\n",
    "plot = sns.barplot(composer_data,x='viewCount',y='composer_surname')\n",
    "plot.xaxis.set_major_locator(ticker.MultipleLocator(500))"
   ]
  }
 ],
 "metadata": {
  "kernelspec": {
   "display_name": "Python 3 (ipykernel)",
   "language": "python",
   "name": "python3"
  },
  "language_info": {
   "codemirror_mode": {
    "name": "ipython",
    "version": 3
   },
   "file_extension": ".py",
   "mimetype": "text/x-python",
   "name": "python",
   "nbconvert_exporter": "python",
   "pygments_lexer": "ipython3",
   "version": "3.13.2"
  }
 },
 "nbformat": 4,
 "nbformat_minor": 5
}
